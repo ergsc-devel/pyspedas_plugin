{
 "cells": [
  {
   "cell_type": "code",
   "execution_count": 1,
   "source": [
    "# import \"pwe_ofa\", \"pytplot\"\r\n",
    "from pwe import pwe_ofa\r\n",
    "import pytplot"
   ],
   "outputs": [],
   "metadata": {}
  },
  {
   "cell_type": "code",
   "execution_count": 4,
   "source": [
    "# get Tplot Variables\r\n",
    "pwe_ofa_vars = pwe_ofa()"
   ],
   "outputs": [
    {
     "output_type": "stream",
     "name": "stderr",
     "text": [
      "27-Jul-21 15:14:23: Downloading remote index: https://ergsc.isee.nagoya-u.ac.jp/data/ergsc/satellite/erg/pwe/ofa/l2/spec/2017/04/\n",
      "27-Jul-21 15:14:24: File is current: erg_data/satellite/erg/pwe/ofa/l2/spec/2017/04/erg_pwe_ofa_l2_spec_20170401_v02_01.cdf\n"
     ]
    }
   ],
   "metadata": {}
  },
  {
   "cell_type": "code",
   "execution_count": 5,
   "source": [
    "# check gotten Tplot Variables names\r\n",
    "print(pwe_ofa_vars)"
   ],
   "outputs": [
    {
     "output_type": "stream",
     "name": "stdout",
     "text": [
      "['erg_pwe_ofa_l2_epoch_e132', 'erg_pwe_ofa_l2_E_spectra_132', 'erg_pwe_ofa_l2_quality_flag_e132', 'erg_pwe_ofa_l2_epoch_b132', 'erg_pwe_ofa_l2_B_spectra_132', 'erg_pwe_ofa_l2_quality_flag_b132']\n"
     ]
    }
   ],
   "metadata": {}
  },
  {
   "cell_type": "code",
   "execution_count": 6,
   "source": [
    "pwe_ofa_vars"
   ],
   "outputs": [
    {
     "output_type": "execute_result",
     "data": {
      "text/plain": [
       "['erg_pwe_ofa_l2_epoch_e132',\n",
       " 'erg_pwe_ofa_l2_E_spectra_132',\n",
       " 'erg_pwe_ofa_l2_quality_flag_e132',\n",
       " 'erg_pwe_ofa_l2_epoch_b132',\n",
       " 'erg_pwe_ofa_l2_B_spectra_132',\n",
       " 'erg_pwe_ofa_l2_quality_flag_b132']"
      ]
     },
     "metadata": {},
     "execution_count": 6
    }
   ],
   "metadata": {}
  },
  {
   "cell_type": "code",
   "execution_count": 7,
   "source": [
    "# show the plot output of 'erg_pwe_ofa_l2_E_spectra_132'\r\n",
    "# the output is shown in another window\r\n",
    "pytplot.tplot('erg_pwe_ofa_l2_E_spectra_132')"
   ],
   "outputs": [],
   "metadata": {}
  },
  {
   "cell_type": "code",
   "execution_count": null,
   "source": [
    "\"\"\"\r\n",
    "Supplement\r\n",
    "'erg_pwe_ofa_l2_epoch_e132' and 'erg_pwe_ofa_l2_epoch_b132'\r\n",
    "cannot be shown these plot output.\r\n",
    "Because, they have only 1D array of time data.\r\n",
    "\"\"\""
   ],
   "outputs": [],
   "metadata": {}
  }
 ],
 "metadata": {
  "kernelspec": {
   "display_name": "Python 3 (ipykernel)",
   "language": "python",
   "name": "python3"
  },
  "language_info": {
   "codemirror_mode": {
    "name": "ipython",
    "version": 3
   },
   "file_extension": ".py",
   "mimetype": "text/x-python",
   "name": "python",
   "nbconvert_exporter": "python",
   "pygments_lexer": "ipython3",
   "version": "3.8.10"
  }
 },
 "nbformat": 4,
 "nbformat_minor": 5
}