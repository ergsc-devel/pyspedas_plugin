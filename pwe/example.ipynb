{
 "cells": [
  {
   "cell_type": "code",
   "execution_count": 1,
   "id": "103ba1b3",
   "metadata": {},
   "outputs": [],
   "source": [
    "# import \"pwe_ofa\", \"pytplot\"\n",
    "from pwe import pwe_ofa\n",
    "import pytplot"
   ]
  },
  {
   "cell_type": "code",
   "execution_count": 4,
   "id": "55bbc2e6",
   "metadata": {},
   "outputs": [
    {
     "name": "stderr",
     "output_type": "stream",
     "text": [
      "27-Jul-21 15:14:23: Downloading remote index: https://ergsc.isee.nagoya-u.ac.jp/data/ergsc/satellite/erg/pwe/ofa/l2/spec/2017/04/\n",
      "27-Jul-21 15:14:24: File is current: erg_data/satellite/erg/pwe/ofa/l2/spec/2017/04/erg_pwe_ofa_l2_spec_20170401_v02_01.cdf\n"
     ]
    }
   ],
   "source": [
    "# get Tplot Variables\n",
    "pwe_ofa_vars = pwe_ofa()"
   ]
  },
  {
   "cell_type": "code",
   "execution_count": 5,
   "id": "ad421c73",
   "metadata": {},
   "outputs": [
    {
     "name": "stdout",
     "output_type": "stream",
     "text": [
      "['erg_pwe_ofa_l2_epoch_e132', 'erg_pwe_ofa_l2_E_spectra_132', 'erg_pwe_ofa_l2_quality_flag_e132', 'erg_pwe_ofa_l2_epoch_b132', 'erg_pwe_ofa_l2_B_spectra_132', 'erg_pwe_ofa_l2_quality_flag_b132']\n"
     ]
    }
   ],
   "source": [
    "# check gotten Tplot Variables names\n",
    "print(pwe_ofa_vars)"
   ]
  },
  {
   "cell_type": "code",
   "execution_count": 6,
   "id": "1df4e4c9",
   "metadata": {},
   "outputs": [
    {
     "data": {
      "text/plain": [
       "['erg_pwe_ofa_l2_epoch_e132',\n",
       " 'erg_pwe_ofa_l2_E_spectra_132',\n",
       " 'erg_pwe_ofa_l2_quality_flag_e132',\n",
       " 'erg_pwe_ofa_l2_epoch_b132',\n",
       " 'erg_pwe_ofa_l2_B_spectra_132',\n",
       " 'erg_pwe_ofa_l2_quality_flag_b132']"
      ]
     },
     "execution_count": 6,
     "metadata": {},
     "output_type": "execute_result"
    }
   ],
   "source": [
    "pwe_ofa_vars"
   ]
  },
  {
   "cell_type": "code",
   "execution_count": 7,
   "id": "0f6f262e",
   "metadata": {},
   "outputs": [],
   "source": [
    "# show the plot output of 'erg_pwe_ofa_l2_E_spectra_132'\n",
    "# the output is shown in another window\n",
    "pytplot.tplot('erg_pwe_ofa_l2_E_spectra_132')"
   ]
  },
  {
   "cell_type": "code",
   "execution_count": null,
   "id": "a6f3da8a",
   "metadata": {},
   "outputs": [],
   "source": [
    "\"\"\"\n",
    "Supplement\n",
    "'erg_pwe_ofa_l2_epoch_e132' and 'erg_pwe_ofa_l2_epoch_b132'\n",
    "cannot be shown these plot output.\n",
    "Because, they have only 1D array of time data.\n",
    "\"\"\""
   ]
  }
 ],
 "metadata": {
  "kernelspec": {
   "display_name": "Python 3 (ipykernel)",
   "language": "python",
   "name": "python3"
  },
  "language_info": {
   "codemirror_mode": {
    "name": "ipython",
    "version": 3
   },
   "file_extension": ".py",
   "mimetype": "text/x-python",
   "name": "python",
   "nbconvert_exporter": "python",
   "pygments_lexer": "ipython3",
   "version": "3.8.10"
  }
 },
 "nbformat": 4,
 "nbformat_minor": 5
}
