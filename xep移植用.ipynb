{
 "cells": [
  {
   "cell_type": "code",
   "execution_count": 1,
   "id": "75a3547f",
   "metadata": {},
   "outputs": [
    {
     "data": {
      "text/plain": [
       "'\\nxep移植用\\n20210909\\n'"
      ]
     },
     "execution_count": 1,
     "metadata": {},
     "output_type": "execute_result"
    }
   ],
   "source": [
    "\"\"\"\n",
    "xep移植用\n",
    "20210909\n",
    "\"\"\""
   ]
  },
  {
   "cell_type": "code",
   "execution_count": 2,
   "id": "d8c86896",
   "metadata": {},
   "outputs": [
    {
     "name": "stderr",
     "output_type": "stream",
     "text": [
      "09-Sep-21 17:11:47: Downloading remote index: https://ergsc.isee.nagoya-u.ac.jp/data/ergsc/satellite/erg/xep/l2/omniflux/2017/04/\n",
      "09-Sep-21 17:11:47: Downloading https://ergsc.isee.nagoya-u.ac.jp/data/ergsc/satellite/erg/xep/l2/omniflux/2017/04/erg_xep_l2_omniflux_20170401_v01_00.cdf to erg_data/satellite/erg/xep/l2/omniflux/2017/04/erg_xep_l2_omniflux_20170401_v01_00.cdf\n",
      "09-Sep-21 17:11:47: Download complete: erg_data/satellite/erg/xep/l2/omniflux/2017/04/erg_xep_l2_omniflux_20170401_v01_00.cdf\n",
      "09-Sep-21 17:11:47: d:\\sakai_d_disc\\virtual\\nu_pj\\lib\\site-packages\\pytplot\\importers\\cdf_to_tplot.py:246: FutureWarning: elementwise comparison failed; returning scalar instead, but in the future will perform elementwise comparison\n",
      "  if ydata[ydata == var_atts[\"FILLVAL\"]].size != 0:\n",
      "\n",
      "09-Sep-21 17:11:47: Searching for local files...\n"
     ]
    },
    {
     "name": "stdout",
     "output_type": "stream",
     "text": [
      " \n",
      "**************************************************************************\n",
      "Exploration of Energization and Radiation in Geospace (ERG) Extremely High-Energy Electron Experiment (XEP) Level 2 extremely high energy electron data\n",
      "\n",
      "Information about ERG XEP\n",
      "\n",
      "PI:  Nana Higashio\n",
      "Affiliation: Space Environment Group, Aerospace Research and Development Directorate, Tsukuba Space Center, Japan Aerospace Exploration Agency, 2-1-1 Sengen, Tsukuba, Ibaraki 305-8505, Japan\n",
      "\n",
      "RoR of ERG project common: https://ergsc.isee.nagoya-u.ac.jp/data_info/rules_of_the_road.shtml.en\n",
      "RoR of XEP: https://ergsc.isee.nagoya-u.ac.jp/mw/index.php/ErgSat/Xep\n",
      "\n",
      "Contact: erg_xep_info at isee.nagoya-u.ac.jp\n",
      "**************************************************************************\n"
     ]
    }
   ],
   "source": [
    "from xep.xep import xep\n",
    "xep_vars = xep(trange=['2017-04-01', '2017-04-02'], datatype='omniflux')"
   ]
  },
  {
   "cell_type": "code",
   "execution_count": 3,
   "id": "d440683b",
   "metadata": {},
   "outputs": [
    {
     "data": {
      "text/plain": [
       "['erg_xep_l2_FEDO_SSD']"
      ]
     },
     "execution_count": 3,
     "metadata": {},
     "output_type": "execute_result"
    }
   ],
   "source": [
    "xep_vars"
   ]
  },
  {
   "cell_type": "code",
   "execution_count": 5,
   "id": "34352dfc",
   "metadata": {},
   "outputs": [],
   "source": [
    "import pytplot\n",
    "pytplot.tplot(xep_vars)"
   ]
  },
  {
   "cell_type": "code",
   "execution_count": null,
   "id": "9c9234a1",
   "metadata": {},
   "outputs": [],
   "source": []
  }
 ],
 "metadata": {
  "kernelspec": {
   "display_name": "Python 3 (ipykernel)",
   "language": "python",
   "name": "python3"
  },
  "language_info": {
   "codemirror_mode": {
    "name": "ipython",
    "version": 3
   },
   "file_extension": ".py",
   "mimetype": "text/x-python",
   "name": "python",
   "nbconvert_exporter": "python",
   "pygments_lexer": "ipython3",
   "version": "3.8.10"
  }
 },
 "nbformat": 4,
 "nbformat_minor": 5
}
