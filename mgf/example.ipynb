{
 "cells": [
  {
   "cell_type": "code",
   "execution_count": 1,
   "id": "1ccaf57e",
   "metadata": {},
   "outputs": [],
   "source": [
    "# mgf, pytplot インポート\n",
    "from mgf import mgf\n",
    "import pytplot"
   ]
  },
  {
   "cell_type": "code",
   "execution_count": 2,
   "id": "f3d19af0",
   "metadata": {},
   "outputs": [
    {
     "name": "stderr",
     "output_type": "stream",
     "text": [
      "27-Jul-21 09:11:46: Downloading remote index: https://ergsc.isee.nagoya-u.ac.jp/data/ergsc/satellite/erg/mgf/l2/8sec/2017/03/\n",
      "27-Jul-21 09:11:47: Downloading https://ergsc.isee.nagoya-u.ac.jp/data/ergsc/satellite/erg/mgf/l2/8sec/2017/03/erg_mgf_l2_8sec_20170327_v03.04.cdf to erg_data/satellite/erg/mgf/l2/8sec/2017/03/erg_mgf_l2_8sec_20170327_v03.04.cdf\n",
      "27-Jul-21 09:11:47: Download complete: erg_data/satellite/erg/mgf/l2/8sec/2017/03/erg_mgf_l2_8sec_20170327_v03.04.cdf\n",
      "27-Jul-21 09:11:47: d:\\sakai_d_disc\\virtual\\nu_pj\\lib\\site-packages\\pytplot\\importers\\cdf_to_tplot.py:246: FutureWarning: elementwise comparison failed; returning scalar instead, but in the future will perform elementwise comparison\n",
      "  if ydata[ydata == var_atts[\"FILLVAL\"]].size != 0:\n",
      "\n"
     ]
    }
   ],
   "source": [
    "# mgfの観測データからのTplot変数を取得\n",
    "mgf_vars = mgf()"
   ]
  },
  {
   "cell_type": "code",
   "execution_count": 3,
   "id": "36ceb8d3",
   "metadata": {},
   "outputs": [
    {
     "name": "stdout",
     "output_type": "stream",
     "text": [
      "['erg_mgf_l2_epoch_8sec', 'erg_mgf_l2_mag_8sec_dsi', 'erg_mgf_l2_mag_8sec_gse', 'erg_mgf_l2_mag_8sec_gsm', 'erg_mgf_l2_mag_8sec_sm', 'erg_mgf_l2_magt_8sec', 'erg_mgf_l2_rmsd_8sec_dsi', 'erg_mgf_l2_rmsd_8sec_gse', 'erg_mgf_l2_rmsd_8sec_gsm', 'erg_mgf_l2_rmsd_8sec_sm', 'erg_mgf_l2_rmsd_8sec', 'erg_mgf_l2_n_rmsd_8sec', 'erg_mgf_l2_dyn_rng_8sec', 'erg_mgf_l2_quality_8sec', 'erg_mgf_l2_quality_8sec_gc', 'erg_mgf_l2_igrf_8sec_dsi', 'erg_mgf_l2_igrf_8sec_gse', 'erg_mgf_l2_igrf_8sec_gsm', 'erg_mgf_l2_igrf_8sec_sm']\n"
     ]
    }
   ],
   "source": [
    "# 取得したTplot変数の確認\n",
    "print(mgf_vars)"
   ]
  },
  {
   "cell_type": "code",
   "execution_count": 4,
   "id": "5669aa5b",
   "metadata": {},
   "outputs": [
    {
     "data": {
      "text/plain": [
       "['erg_mgf_l2_epoch_8sec',\n",
       " 'erg_mgf_l2_mag_8sec_dsi',\n",
       " 'erg_mgf_l2_mag_8sec_gse',\n",
       " 'erg_mgf_l2_mag_8sec_gsm',\n",
       " 'erg_mgf_l2_mag_8sec_sm',\n",
       " 'erg_mgf_l2_magt_8sec',\n",
       " 'erg_mgf_l2_rmsd_8sec_dsi',\n",
       " 'erg_mgf_l2_rmsd_8sec_gse',\n",
       " 'erg_mgf_l2_rmsd_8sec_gsm',\n",
       " 'erg_mgf_l2_rmsd_8sec_sm',\n",
       " 'erg_mgf_l2_rmsd_8sec',\n",
       " 'erg_mgf_l2_n_rmsd_8sec',\n",
       " 'erg_mgf_l2_dyn_rng_8sec',\n",
       " 'erg_mgf_l2_quality_8sec',\n",
       " 'erg_mgf_l2_quality_8sec_gc',\n",
       " 'erg_mgf_l2_igrf_8sec_dsi',\n",
       " 'erg_mgf_l2_igrf_8sec_gse',\n",
       " 'erg_mgf_l2_igrf_8sec_gsm',\n",
       " 'erg_mgf_l2_igrf_8sec_sm']"
      ]
     },
     "execution_count": 4,
     "metadata": {},
     "output_type": "execute_result"
    }
   ],
   "source": [
    "mgf_vars"
   ]
  },
  {
   "cell_type": "code",
   "execution_count": 5,
   "id": "30d9292d",
   "metadata": {},
   "outputs": [
    {
     "name": "stderr",
     "output_type": "stream",
     "text": [
      "27-Jul-21 09:11:55: d:\\sakai_d_disc\\virtual\\nu_pj\\lib\\site-packages\\pytplot\\QtPlotter\\CustomAxis\\AxisItem.py:180: DeprecationWarning: an integer is required (got type float).  Implicit conversion to integers using __int__ is deprecated, and may be removed in a future version of Python.\n",
      "  color.setAlpha(lineAlpha)\n",
      "\n"
     ]
    }
   ],
   "source": [
    "\"\"\"\n",
    "'erg_mgf_l2_mag_8sec_dsi'\n",
    "のプロットを出力\n",
    "\"\"\"\n",
    "pytplot.tplot('erg_mgf_l2_mag_8sec_dsi')\n",
    "#　別ウィンドウに出力される。"
   ]
  },
  {
   "cell_type": "code",
   "execution_count": 7,
   "id": "0ddbe4c2",
   "metadata": {},
   "outputs": [
    {
     "data": {
      "text/plain": [
       "\"\\n補足\\n'erg_mgf_l2_epoch_8sec'\\nは時間データの1次元配列しかもたない\\nTplot変数のため、プロット出力不可。\\nエラーが出る。\\n\""
      ]
     },
     "execution_count": 7,
     "metadata": {},
     "output_type": "execute_result"
    }
   ],
   "source": [
    "\"\"\"\n",
    "補足\n",
    "'erg_mgf_l2_epoch_8sec'\n",
    "は時間データの1次元配列しかもたない\n",
    "Tplot変数のため、プロット出力不可。\n",
    "エラーが出る。\n",
    "\"\"\""
   ]
  },
  {
   "cell_type": "code",
   "execution_count": null,
   "id": "e02c2ec3",
   "metadata": {},
   "outputs": [],
   "source": []
  }
 ],
 "metadata": {
  "kernelspec": {
   "display_name": "Python 3 (ipykernel)",
   "language": "python",
   "name": "python3"
  },
  "language_info": {
   "codemirror_mode": {
    "name": "ipython",
    "version": 3
   },
   "file_extension": ".py",
   "mimetype": "text/x-python",
   "name": "python",
   "nbconvert_exporter": "python",
   "pygments_lexer": "ipython3",
   "version": "3.8.10"
  }
 },
 "nbformat": 4,
 "nbformat_minor": 5
}
