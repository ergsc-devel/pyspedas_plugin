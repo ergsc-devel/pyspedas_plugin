{
 "cells": [
  {
   "cell_type": "code",
   "execution_count": 1,
   "source": [
    "# import \"mgf\", \"pytplot\"\r\n",
    "from mgf import mgf\r\n",
    "import pytplot"
   ],
   "outputs": [],
   "metadata": {}
  },
  {
   "cell_type": "code",
   "execution_count": 2,
   "source": [
    "# get Tplot Variables\r\n",
    "mgf_vars = mgf()"
   ],
   "outputs": [
    {
     "output_type": "stream",
     "name": "stderr",
     "text": [
      "27-Jul-21 09:11:46: Downloading remote index: https://ergsc.isee.nagoya-u.ac.jp/data/ergsc/satellite/erg/mgf/l2/8sec/2017/03/\n",
      "27-Jul-21 09:11:47: Downloading https://ergsc.isee.nagoya-u.ac.jp/data/ergsc/satellite/erg/mgf/l2/8sec/2017/03/erg_mgf_l2_8sec_20170327_v03.04.cdf to erg_data/satellite/erg/mgf/l2/8sec/2017/03/erg_mgf_l2_8sec_20170327_v03.04.cdf\n",
      "27-Jul-21 09:11:47: Download complete: erg_data/satellite/erg/mgf/l2/8sec/2017/03/erg_mgf_l2_8sec_20170327_v03.04.cdf\n",
      "27-Jul-21 09:11:47: d:\\sakai_d_disc\\virtual\\nu_pj\\lib\\site-packages\\pytplot\\importers\\cdf_to_tplot.py:246: FutureWarning: elementwise comparison failed; returning scalar instead, but in the future will perform elementwise comparison\n",
      "  if ydata[ydata == var_atts[\"FILLVAL\"]].size != 0:\n",
      "\n"
     ]
    }
   ],
   "metadata": {}
  },
  {
   "cell_type": "code",
   "execution_count": 3,
   "source": [
    "# check gotten Tplot Variables names\r\n",
    "print(mgf_vars)"
   ],
   "outputs": [
    {
     "output_type": "stream",
     "name": "stdout",
     "text": [
      "['erg_mgf_l2_epoch_8sec', 'erg_mgf_l2_mag_8sec_dsi', 'erg_mgf_l2_mag_8sec_gse', 'erg_mgf_l2_mag_8sec_gsm', 'erg_mgf_l2_mag_8sec_sm', 'erg_mgf_l2_magt_8sec', 'erg_mgf_l2_rmsd_8sec_dsi', 'erg_mgf_l2_rmsd_8sec_gse', 'erg_mgf_l2_rmsd_8sec_gsm', 'erg_mgf_l2_rmsd_8sec_sm', 'erg_mgf_l2_rmsd_8sec', 'erg_mgf_l2_n_rmsd_8sec', 'erg_mgf_l2_dyn_rng_8sec', 'erg_mgf_l2_quality_8sec', 'erg_mgf_l2_quality_8sec_gc', 'erg_mgf_l2_igrf_8sec_dsi', 'erg_mgf_l2_igrf_8sec_gse', 'erg_mgf_l2_igrf_8sec_gsm', 'erg_mgf_l2_igrf_8sec_sm']\n"
     ]
    }
   ],
   "metadata": {}
  },
  {
   "cell_type": "code",
   "execution_count": 5,
   "source": [
    "# show the plot output of 'erg_mgf_l2_mag_8sec_dsi'\r\n",
    "# the output is shown in another window\r\n",
    "pytplot.tplot('erg_mgf_l2_mag_8sec_dsi')"
   ],
   "outputs": [
    {
     "output_type": "stream",
     "name": "stderr",
     "text": [
      "27-Jul-21 09:11:55: d:\\sakai_d_disc\\virtual\\nu_pj\\lib\\site-packages\\pytplot\\QtPlotter\\CustomAxis\\AxisItem.py:180: DeprecationWarning: an integer is required (got type float).  Implicit conversion to integers using __int__ is deprecated, and may be removed in a future version of Python.\n",
      "  color.setAlpha(lineAlpha)\n",
      "\n"
     ]
    }
   ],
   "metadata": {}
  },
  {
   "cell_type": "code",
   "execution_count": 7,
   "source": [
    "\"\"\"\r\n",
    "Supplement\r\n",
    "'erg_mgf_l2_epoch_8sec'\r\n",
    "cannot be shown these plot output.\r\n",
    "Because, they have only 1D array of time data.\r\n",
    "\"\"\""
   ],
   "outputs": [
    {
     "output_type": "execute_result",
     "data": {
      "text/plain": [
       "\"\\n補足\\n'erg_mgf_l2_epoch_8sec'\\nは時間データの1次元配列しかもたない\\nTplot変数のため、プロット出力不可。\\nエラーが出る。\\n\""
      ]
     },
     "metadata": {},
     "execution_count": 7
    }
   ],
   "metadata": {}
  },
  {
   "cell_type": "code",
   "execution_count": null,
   "source": [],
   "outputs": [],
   "metadata": {}
  }
 ],
 "metadata": {
  "kernelspec": {
   "display_name": "Python 3 (ipykernel)",
   "language": "python",
   "name": "python3"
  },
  "language_info": {
   "codemirror_mode": {
    "name": "ipython",
    "version": 3
   },
   "file_extension": ".py",
   "mimetype": "text/x-python",
   "name": "python",
   "nbconvert_exporter": "python",
   "pygments_lexer": "ipython3",
   "version": "3.8.10"
  }
 },
 "nbformat": 4,
 "nbformat_minor": 5
}